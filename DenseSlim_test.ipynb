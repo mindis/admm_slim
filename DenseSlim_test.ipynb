{
 "cells": [
  {
   "cell_type": "code",
   "execution_count": null,
   "metadata": {},
   "outputs": [],
   "source": [
    "%reload_ext autoreload\n",
    "%autoreload 2"
   ]
  },
  {
   "cell_type": "code",
   "execution_count": null,
   "metadata": {},
   "outputs": [],
   "source": [
    "import matplotlib.pyplot as plt\n",
    "%matplotlib inline"
   ]
  },
  {
   "cell_type": "code",
   "execution_count": null,
   "metadata": {},
   "outputs": [],
   "source": [
    "import numpy as np\n",
    "import pandas as pd\n",
    "from scipy import sparse\n",
    "from admm_slim import DenseSlim"
   ]
  },
  {
   "cell_type": "markdown",
   "metadata": {},
   "source": [
    "## Use benchmark data\n",
    "- Download from kaggle, unzip, and place rating.csv to data directory.\n",
    "- URL - https://www.kaggle.com/CooperUnion/anime-recommendations-database"
   ]
  },
  {
   "cell_type": "code",
   "execution_count": null,
   "metadata": {},
   "outputs": [],
   "source": [
    "anime_rating = pd.read_csv(\"./data/rating.csv\")\n",
    "anime_rating = anime_rating[anime_rating.rating > 0]"
   ]
  },
  {
   "cell_type": "code",
   "execution_count": null,
   "metadata": {},
   "outputs": [],
   "source": [
    "# filter rare users/animes\n",
    "user_counts = anime_rating.user_id.value_counts()\n",
    "item_counts = anime_rating.anime_id.value_counts()\n",
    "\n",
    "target_users = user_counts.index[user_counts >= 10]\n",
    "target_items = item_counts.index[item_counts >= 100]\n",
    "\n",
    "anime_rating = anime_rating[\n",
    "    (anime_rating.user_id.isin(target_users)) &\n",
    "    (anime_rating.anime_id.isin(target_items))\n",
    "]"
   ]
  },
  {
   "cell_type": "code",
   "execution_count": null,
   "metadata": {},
   "outputs": [],
   "source": [
    "users = anime_rating.user_id.unique().tolist()\n",
    "animes = anime_rating.anime_id.unique().tolist()\n",
    "\n",
    "user_id_dict = dict([(v, index) for index, v in enumerate(users)])\n",
    "anime_id_dict = dict([(v, index) for index, v in enumerate(animes)])"
   ]
  },
  {
   "cell_type": "code",
   "execution_count": null,
   "metadata": {},
   "outputs": [],
   "source": [
    "user_ids = [user_id_dict[v] for v in anime_rating.user_id]\n",
    "anime_ids = [anime_id_dict[v] for v in anime_rating.anime_id]"
   ]
  },
  {
   "cell_type": "code",
   "execution_count": null,
   "metadata": {},
   "outputs": [],
   "source": [
    "data = np.ones(len(anime_rating))\n",
    "coodinates = (user_ids, anime_ids)\n",
    "X = sparse.coo_matrix((data, coodinates), dtype=np.int8)"
   ]
  },
  {
   "cell_type": "code",
   "execution_count": null,
   "metadata": {},
   "outputs": [],
   "source": [
    "X"
   ]
  },
  {
   "cell_type": "markdown",
   "metadata": {},
   "source": [
    "## Fit Dense SLIM model"
   ]
  },
  {
   "cell_type": "code",
   "execution_count": null,
   "metadata": {},
   "outputs": [],
   "source": [
    "model = DenseSlim(lambda_2=1000)"
   ]
  },
  {
   "cell_type": "code",
   "execution_count": null,
   "metadata": {},
   "outputs": [],
   "source": [
    "from sklearn.model_selection import train_test_split"
   ]
  },
  {
   "cell_type": "code",
   "execution_count": null,
   "metadata": {},
   "outputs": [],
   "source": [
    "X_train, X_test = train_test_split(X, random_state=123)"
   ]
  },
  {
   "cell_type": "code",
   "execution_count": null,
   "metadata": {},
   "outputs": [],
   "source": [
    "X_train.shape, X_test.shape"
   ]
  },
  {
   "cell_type": "code",
   "execution_count": null,
   "metadata": {},
   "outputs": [],
   "source": [
    "model.fit(X_train)"
   ]
  },
  {
   "cell_type": "code",
   "execution_count": null,
   "metadata": {},
   "outputs": [],
   "source": [
    "n_target_user = 1000"
   ]
  },
  {
   "cell_type": "code",
   "execution_count": null,
   "metadata": {},
   "outputs": [],
   "source": [
    "recommended = model.recommend(X_test.tocsr()[:n_target_user], top=20)"
   ]
  },
  {
   "cell_type": "code",
   "execution_count": null,
   "metadata": {},
   "outputs": [],
   "source": [
    "def evaluate_score(X, recommended):\n",
    "    hits, recalls, APs = [], [], []\n",
    "\n",
    "    X_csr = X.tocsr()\n",
    "    positives = X_csr.sum(axis=1).A1\n",
    "    \n",
    "    for irow, n_positive in enumerate(positives):\n",
    "        recommended_row = recommended[irow]\n",
    "\n",
    "        # 対象行で非ゼロの要素を抽出する\n",
    "        start = X_csr.indptr[irow]\n",
    "        end = X_csr.indptr[irow + 1]\n",
    "        flags = np.isin(recommended_row, X_csr.indices[start:end])\n",
    "\n",
    "        n_hit = sum(flags)\n",
    "        hits.append(any(flags))\n",
    "        recalls.append(n_hit / n_positive)\n",
    "        precisions = np.cumsum(flags) / (np.arange(len(flags)) + 1)\n",
    "        APs.append(np.mean(precisions))\n",
    "\n",
    "        \n",
    "    stats = {\n",
    "        'hit': np.mean(hits),\n",
    "        'recall': np.mean(recalls),\n",
    "        'MAP': np.mean(APs),\n",
    "    }\n",
    "    return stats"
   ]
  },
  {
   "cell_type": "code",
   "execution_count": null,
   "metadata": {},
   "outputs": [],
   "source": [
    "evaluate_score(X_test.tocsr()[:n_target_user], recommended)"
   ]
  }
 ],
 "metadata": {
  "kernelspec": {
   "display_name": "Python 3",
   "language": "python",
   "name": "python3"
  },
  "language_info": {
   "codemirror_mode": {
    "name": "ipython",
    "version": 3
   },
   "file_extension": ".py",
   "mimetype": "text/x-python",
   "name": "python",
   "nbconvert_exporter": "python",
   "pygments_lexer": "ipython3",
   "version": "3.7.4"
  }
 },
 "nbformat": 4,
 "nbformat_minor": 2
}
