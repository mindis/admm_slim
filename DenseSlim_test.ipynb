{
 "cells": [
  {
   "cell_type": "code",
   "execution_count": null,
   "metadata": {},
   "outputs": [],
   "source": [
    "%reload_ext autoreload\n",
    "%autoreload 2"
   ]
  },
  {
   "cell_type": "code",
   "execution_count": null,
   "metadata": {},
   "outputs": [],
   "source": [
    "import matplotlib.pyplot as plt\n",
    "%matplotlib inline"
   ]
  },
  {
   "cell_type": "code",
   "execution_count": null,
   "metadata": {},
   "outputs": [],
   "source": [
    "import numpy as np\n",
    "import pandas as pd\n",
    "from scipy import sparse\n",
    "from admm_slim import DenseSlim"
   ]
  },
  {
   "cell_type": "markdown",
   "metadata": {},
   "source": [
    "## Use benchmark data\n",
    "- Download from kaggle, unzip, and place rating.csv to data directory.\n",
    "- URL - https://www.kaggle.com/CooperUnion/anime-recommendations-database"
   ]
  },
  {
   "cell_type": "code",
   "execution_count": null,
   "metadata": {},
   "outputs": [],
   "source": [
    "anime_rating = pd.read_csv(\"./data/rating.csv\")\n",
    "anime_rating = anime_rating[anime_rating.rating > 0]"
   ]
  },
  {
   "cell_type": "code",
   "execution_count": null,
   "metadata": {},
   "outputs": [],
   "source": [
    "# filter rare users/animes\n",
    "user_counts = anime_rating.user_id.value_counts()\n",
    "item_counts = anime_rating.anime_id.value_counts()\n",
    "\n",
    "target_users = user_counts.index[user_counts >= 20]\n",
    "target_items = item_counts.index[item_counts >= 100]\n",
    "\n",
    "anime_rating = anime_rating[\n",
    "    (anime_rating.user_id.isin(target_users)) &\n",
    "    (anime_rating.anime_id.isin(target_items))\n",
    "]"
   ]
  },
  {
   "cell_type": "code",
   "execution_count": null,
   "metadata": {},
   "outputs": [],
   "source": [
    "users = anime_rating.user_id.unique().tolist()\n",
    "animes = anime_rating.anime_id.unique().tolist()\n",
    "\n",
    "user_id_dict = dict([(v, index) for index, v in enumerate(users)])\n",
    "anime_id_dict = dict([(v, index) for index, v in enumerate(animes)])"
   ]
  },
  {
   "cell_type": "code",
   "execution_count": null,
   "metadata": {},
   "outputs": [],
   "source": [
    "user_ids = [user_id_dict[v] for v in anime_rating.user_id]\n",
    "anime_ids = [anime_id_dict[v] for v in anime_rating.anime_id]"
   ]
  },
  {
   "cell_type": "code",
   "execution_count": null,
   "metadata": {},
   "outputs": [],
   "source": [
    "data = np.ones(len(anime_rating))\n",
    "coodinates = (user_ids, anime_ids)\n",
    "X = sparse.coo_matrix((data, coodinates), dtype=np.int8)"
   ]
  },
  {
   "cell_type": "code",
   "execution_count": null,
   "metadata": {},
   "outputs": [],
   "source": [
    "X"
   ]
  },
  {
   "cell_type": "markdown",
   "metadata": {},
   "source": [
    "## Fit Dense SLIM model"
   ]
  },
  {
   "cell_type": "code",
   "execution_count": null,
   "metadata": {},
   "outputs": [],
   "source": [
    "model = DenseSlim()"
   ]
  },
  {
   "cell_type": "code",
   "execution_count": null,
   "metadata": {},
   "outputs": [],
   "source": [
    "model.fit(X)"
   ]
  },
  {
   "cell_type": "code",
   "execution_count": null,
   "metadata": {},
   "outputs": [],
   "source": [
    "model.recommend(X)"
   ]
  }
 ],
 "metadata": {
  "kernelspec": {
   "display_name": "Python 3",
   "language": "python",
   "name": "python3"
  },
  "language_info": {
   "codemirror_mode": {
    "name": "ipython",
    "version": 3
   },
   "file_extension": ".py",
   "mimetype": "text/x-python",
   "name": "python",
   "nbconvert_exporter": "python",
   "pygments_lexer": "ipython3",
   "version": "3.6.5"
  }
 },
 "nbformat": 4,
 "nbformat_minor": 2
}
